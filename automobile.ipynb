{
 "cells": [
  {
   "cell_type": "markdown",
   "metadata": {},
   "source": [
    "# What quantitative and Qualitative Characteristics Affect Normalized-Loses of Automobiles?"
   ]
  },
  {
   "cell_type": "markdown",
   "metadata": {},
   "source": [
    "## 1.0 Introduction\n",
    "\n",
    "I found the raw data from:\n",
    "\n",
    "- http://archive.ics.uci.edu/ml/datasets/Automobile\n",
    "\n",
    "- https://www.kaggle.com/toramky/automobile-dataset![image.png](attachment:image.png)\n",
    "\n",
    "The producer of the raw data took this raw data from 1985 Ward's Automotive Yearbook.\n",
    "\n",
    "The prdoducer of the raw data took from:\n",
    "\n",
    "1. 1985 Model Import Car and Truck Specifications, 1985 Ward's Automotive Yearbook.\n",
    "2. Personal Auto Manuals, Insurance Services Office, 160 Water Street, New York, NY 10038\n",
    "3. Insurance Collision Report, Insurance Institute for Highway Safety, Watergate 600, Washington, DC 20037"
   ]
  },
  {
   "cell_type": "markdown",
   "metadata": {},
   "source": [
    "## 2.0 Synopsis\n",
    "\n",
    "I:\n",
    "\n",
    "1. Loaded the csv file.\n",
    "2. "
   ]
  },
  {
   "cell_type": "markdown",
   "metadata": {},
   "source": [
    "## 3.0 Processing\n",
    "\n",
    "Here's the code to load the data."
   ]
  },
  {
   "cell_type": "code",
   "execution_count": 1,
   "metadata": {},
   "outputs": [],
   "source": [
    "#aim is to get a list of codes\n",
    "#step 1 - import required modules\n",
    "import pandas as pd\n",
    "import unittest\n",
    "import numpy as np\n"
   ]
  },
  {
   "cell_type": "code",
   "execution_count": null,
   "metadata": {},
   "outputs": [],
   "source": []
  }
 ],
 "metadata": {
  "kernelspec": {
   "display_name": "Python 2",
   "language": "python",
   "name": "python2"
  },
  "language_info": {
   "codemirror_mode": {
    "name": "ipython",
    "version": 2
   },
   "file_extension": ".py",
   "mimetype": "text/x-python",
   "name": "python",
   "nbconvert_exporter": "python",
   "pygments_lexer": "ipython2",
   "version": "2.7.16"
  }
 },
 "nbformat": 4,
 "nbformat_minor": 2
}
